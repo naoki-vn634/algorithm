{
 "cells": [
  {
   "cell_type": "code",
   "execution_count": 5,
   "metadata": {},
   "outputs": [
    {
     "name": "stdin",
     "output_type": "stream",
     "text": [
      " 1 2\n",
      " 2 3\n",
      " 2 3\n",
      " 3 4\n",
      " 5 6\n"
     ]
    }
   ],
   "source": [
    "xy = [map(int, input().split()) for _ in range(5)]\n",
    "x,y = [list(i) for i in zip(*xy)]"
   ]
  },
  {
   "cell_type": "code",
   "execution_count": 13,
   "metadata": {},
   "outputs": [
    {
     "name": "stdout",
     "output_type": "stream",
     "text": [
      "[<map object at 0x10472ee80>, <map object at 0x10472ef98>, <map object at 0x10472e668>, <map object at 0x10472eef0>, <map object at 0x104751cc0>]\n",
      "[1, 2, 2, 3, 5]\n"
     ]
    }
   ],
   "source": [
    "print(xy)\n",
    "print(x)"
   ]
  },
  {
   "cell_type": "code",
   "execution_count": 14,
   "metadata": {},
   "outputs": [
    {
     "name": "stdin",
     "output_type": "stream",
     "text": [
      " 321312312\n"
     ]
    }
   ],
   "source": [
    "s = input()\n",
    "a = [int(c) for c in s]"
   ]
  },
  {
   "cell_type": "code",
   "execution_count": 16,
   "metadata": {},
   "outputs": [
    {
     "name": "stdout",
     "output_type": "stream",
     "text": [
      "<class 'str'>\n"
     ]
    }
   ],
   "source": [
    "print(type(s))"
   ]
  },
  {
   "cell_type": "code",
   "execution_count": 17,
   "metadata": {},
   "outputs": [
    {
     "name": "stdout",
     "output_type": "stream",
     "text": [
      "3\n",
      "2\n",
      "1\n",
      "3\n",
      "1\n",
      "2\n",
      "3\n",
      "1\n",
      "2\n"
     ]
    }
   ],
   "source": [
    "for c in s:\n",
    "    \n",
    "    print(c)"
   ]
  },
  {
   "cell_type": "code",
   "execution_count": 19,
   "metadata": {},
   "outputs": [
    {
     "name": "stdin",
     "output_type": "stream",
     "text": [
      " ABC\n"
     ]
    },
    {
     "name": "stdout",
     "output_type": "stream",
     "text": [
      "ARC\n"
     ]
    }
   ],
   "source": [
    "s=input()\n",
    "if s =='ABC':\n",
    "    print('ARC')\n",
    "elif s == 'ARC':\n",
    "    print('ABC')"
   ]
  },
  {
   "cell_type": "code",
   "execution_count": 35,
   "metadata": {},
   "outputs": [
    {
     "name": "stdin",
     "output_type": "stream",
     "text": [
      " 3 4\n"
     ]
    }
   ],
   "source": [
    "N,K = list(map(int,input().split()))\n",
    "N_S = [i+1 for i in range(N)]"
   ]
  },
  {
   "cell_type": "code",
   "execution_count": 36,
   "metadata": {},
   "outputs": [
    {
     "data": {
      "text/plain": [
       "[1, 2, 3]"
      ]
     },
     "execution_count": 36,
     "metadata": {},
     "output_type": "execute_result"
    }
   ],
   "source": [
    "N_S"
   ]
  },
  {
   "cell_type": "code",
   "execution_count": 41,
   "metadata": {},
   "outputs": [
    {
     "name": "stdin",
     "output_type": "stream",
     "text": [
      " 3 3\n",
      " 1\n",
      " 3\n",
      " 1\n",
      " 3\n",
      " 1\n",
      " 3\n"
     ]
    },
    {
     "name": "stdout",
     "output_type": "stream",
     "text": [
      "2\n"
     ]
    }
   ],
   "source": [
    "N,K = list(map(int,input().split()))\n",
    "N_S = [i+1 for i in range(N)]\n",
    "for i in range(K):\n",
    "    d = int(input())\n",
    "    a = list(map(int,input().split()))\n",
    "    for j in range(d):\n",
    "        if a[j] in N_S:\n",
    "            N_S.remove(a[j])\n",
    "print(len(N_S))"
   ]
  },
  {
   "cell_type": "code",
   "execution_count": 39,
   "metadata": {},
   "outputs": [
    {
     "name": "stdout",
     "output_type": "stream",
     "text": [
      "[2]\n"
     ]
    }
   ],
   "source": [
    "print(N_S)"
   ]
  },
  {
   "cell_type": "code",
   "execution_count": 45,
   "metadata": {},
   "outputs": [],
   "source": [
    "##3\n",
    "# N M\n",
    "# H1 H2 ... HN\n",
    "# Mこのペア"
   ]
  },
  {
   "cell_type": "code",
   "execution_count": 104,
   "metadata": {},
   "outputs": [
    {
     "name": "stdin",
     "output_type": "stream",
     "text": [
      " 6 5\n",
      " 8 6 9 1 2 1\n",
      " 1 3\n",
      " 4 2\n",
      " 4 3\n",
      " 4 6\n",
      " 4 6\n"
     ]
    },
    {
     "name": "stdout",
     "output_type": "stream",
     "text": [
      "[1]\n",
      "[1, 2]\n",
      "[1, 2, 4]\n",
      "3\n"
     ]
    }
   ],
   "source": [
    "N,M = list(map(int, input().split()))# 4 3\n",
    "H = list(map(int, input().split()))# 1 2 3 4\n",
    "path = [list(map(int,input().split())) for i in range(M)]\n",
    "\n",
    "best = []\n",
    "for i in range(N):\n",
    "    h_i = H[i]\n",
    "    count=0\n",
    "    n_count=0\n",
    "    for j in range(M):#pathの検索\n",
    "        if (i+1) in path[j]:\n",
    "            n_count+=1\n",
    "            #相方の展望台\n",
    "            n_k = path[j][path[j].index(i+1)-1]\n",
    "            h_k = H[n_k-1]\n",
    "            if h_i > h_k:\n",
    "                count+=1\n",
    "                \n",
    "    if (count>0) or (n_count==0):\n",
    "        best.append(i-1)\n",
    "        print(best)\n",
    "print(len(best))\n",
    "            \n",
    "            \n",
    "    "
   ]
  },
  {
   "cell_type": "code",
   "execution_count": 67,
   "metadata": {},
   "outputs": [
    {
     "data": {
      "text/plain": [
       "[[1, 3], [2, 3], [2, 4]]"
      ]
     },
     "execution_count": 67,
     "metadata": {},
     "output_type": "execute_result"
    }
   ],
   "source": [
    "path\n"
   ]
  },
  {
   "cell_type": "code",
   "execution_count": 68,
   "metadata": {},
   "outputs": [],
   "source": [
    "a=path[0][(path[0].index(1)-1)]"
   ]
  },
  {
   "cell_type": "code",
   "execution_count": 69,
   "metadata": {},
   "outputs": [
    {
     "data": {
      "text/plain": [
       "3"
      ]
     },
     "execution_count": 69,
     "metadata": {},
     "output_type": "execute_result"
    }
   ],
   "source": [
    "a\n"
   ]
  },
  {
   "cell_type": "code",
   "execution_count": 70,
   "metadata": {},
   "outputs": [
    {
     "data": {
      "text/plain": [
       "int"
      ]
     },
     "execution_count": 70,
     "metadata": {},
     "output_type": "execute_result"
    }
   ],
   "source": [
    "type(a)"
   ]
  },
  {
   "cell_type": "code",
   "execution_count": 102,
   "metadata": {},
   "outputs": [
    {
     "name": "stdin",
     "output_type": "stream",
     "text": [
      " 32\n",
      " 3 1 4 1 5 9 2 6 5 3 5 8 9 7 9 3 2 3 8 4 6 2 6 4 3 3 8 3 2 7 9 5\n"
     ]
    },
    {
     "name": "stdout",
     "output_type": "stream",
     "text": [
      "22\n"
     ]
    }
   ],
   "source": [
    "N = int(input())\n",
    "H = list(map(int,input().split()))\n",
    "count=0\n",
    "for i in range(N):\n",
    "    h_i = H[i]\n",
    "    j = i+1\n",
    "    while j < N:\n",
    "        if (j-i) == (H[j]+h_i):\n",
    "            count+=1\n",
    "        \n",
    "        j+=1\n",
    "print(count)"
   ]
  },
  {
   "cell_type": "code",
   "execution_count": 107,
   "metadata": {},
   "outputs": [
    {
     "name": "stdin",
     "output_type": "stream",
     "text": [
      " 3 2\n",
      " 1 2 3\n",
      " 1 3\n",
      " 2 3\n"
     ]
    }
   ],
   "source": [
    "N,M = map(int,input().split())\n",
    "H = list(map(int,input().split()))\n",
    "AB = [set() for i in range(N)]\n",
    "for i in range(M):\n",
    "    A,B = map(int,input().split())\n",
    "    AB[A-1].add(B-1)\n",
    "    AB[B-1].add(A-1)"
   ]
  },
  {
   "cell_type": "code",
   "execution_count": null,
   "metadata": {},
   "outputs": [],
   "source": [
    "N,M = map(int, input().split())\n",
    "H = list(map(int,input().split()))\n",
    "AB = [set() for i in range(N)]\n",
    "for i in range(M):\n",
    "    A,B = map(int(),input().split())\n",
    "    AB[A-1].add(B-1)\n",
    "    AB[B-1].add(A-1)\n",
    "\n",
    "ans = 0\n",
    "for i in range(N):\n",
    "    res = True\n",
    "    for x in AB[i]:\n",
    "        if H[i]<= H[x]:\n",
    "            res = False\n",
    "            break\n",
    "    if res:\n",
    "        ans+=1\n",
    "print(ans)\n",
    "    \n",
    "    "
   ]
  },
  {
   "cell_type": "code",
   "execution_count": null,
   "metadata": {},
   "outputs": [],
   "source": []
  }
 ],
 "metadata": {
  "kernelspec": {
   "display_name": "Python 3",
   "language": "python",
   "name": "python3"
  },
  "language_info": {
   "codemirror_mode": {
    "name": "ipython",
    "version": 3
   },
   "file_extension": ".py",
   "mimetype": "text/x-python",
   "name": "python",
   "nbconvert_exporter": "python",
   "pygments_lexer": "ipython3",
   "version": "3.6.9"
  }
 },
 "nbformat": 4,
 "nbformat_minor": 4
}
