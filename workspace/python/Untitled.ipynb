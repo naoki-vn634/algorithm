{
 "cells": [
  {
   "cell_type": "code",
   "execution_count": 3,
   "metadata": {},
   "outputs": [
    {
     "name": "stdout",
     "output_type": "stream",
     "text": [
      "2\n"
     ]
    }
   ],
   "source": [
    "def func():\n",
    "    A,B=map(int,input().split())\n",
    "    \n",
    "    if A>=B*2:\n",
    "        C=A-2*B\n",
    "        print(C)\n",
    "    else:\n",
    "        print(0)\n",
    "        \n",
    "if __name__==\"__main__\":\n",
    "    func()\n",
    "    \n",
    "    \n",
    "    "
   ]
  },
  {
   "cell_type": "code",
   "execution_count": null,
   "metadata": {},
   "outputs": [],
   "source": [
    "def func():\n",
    "    a=int(input())\n",
    "    taste=map(int,input().split())\n",
    "    "
   ]
  },
  {
   "cell_type": "code",
   "execution_count": 3,
   "metadata": {},
   "outputs": [
    {
     "name": "stdout",
     "output_type": "stream",
     "text": [
      "Naoki lives in Japan and men majoring in computer science\n"
     ]
    }
   ],
   "source": [
    "class Personel:\n",
    "    def __init__(self,name,nationality,sex):\n",
    "        self.name = name\n",
    "        self.nationality = nationality\n",
    "        self.sex = sex\n",
    "        \n",
    "    def __call__(self,majoring):\n",
    "        print(\"{} lives in {} and {} majoring in {}\".format(self.name,self.nationality,self.sex,majoring))\n",
    "        \n",
    "        \n",
    "matsunaga = Personel(\"Naoki\",\"Japan\",\"men\")\n",
    "matsunaga(\"computer science\")"
   ]
  },
  {
   "cell_type": "code",
   "execution_count": 4,
   "metadata": {},
   "outputs": [],
   "source": [
    "def kaiki(n):\n",
    "    if n==0 or n==1:\n",
    "        return 1\n",
    "    else:\n",
    "        return n*kaiki(n-1)"
   ]
  },
  {
   "cell_type": "code",
   "execution_count": 5,
   "metadata": {},
   "outputs": [
    {
     "data": {
      "text/plain": [
       "6"
      ]
     },
     "execution_count": 5,
     "metadata": {},
     "output_type": "execute_result"
    }
   ],
   "source": [
    "kaiki(3)"
   ]
  },
  {
   "cell_type": "code",
   "execution_count": null,
   "metadata": {},
   "outputs": [],
   "source": []
  }
 ],
 "metadata": {
  "kernelspec": {
   "display_name": "Python 2",
   "language": "python",
   "name": "python2"
  },
  "language_info": {
   "codemirror_mode": {
    "name": "ipython",
    "version": 2
   },
   "file_extension": ".py",
   "mimetype": "text/x-python",
   "name": "python",
   "nbconvert_exporter": "python",
   "pygments_lexer": "ipython2",
   "version": "2.7.16"
  }
 },
 "nbformat": 4,
 "nbformat_minor": 2
}
