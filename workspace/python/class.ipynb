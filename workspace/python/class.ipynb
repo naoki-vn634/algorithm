{
 "cells": [
  {
   "cell_type": "code",
   "execution_count": 1,
   "metadata": {},
   "outputs": [
    {
     "name": "stdout",
     "output_type": "stream",
     "text": [
      "call method\n",
      "100\n"
     ]
    }
   ],
   "source": [
    "class Spam:\n",
    "    val=100\n",
    "    def ham(self):\n",
    "        #ham内でeggを呼び出す\n",
    "        self.egg('call method')\n",
    "        \n",
    "    def egg(self,msg):\n",
    "        print(\"{0}\".format(msg))\n",
    "        print((\"{0}\".format(self.val)))\n",
    "        \n",
    "#オブジェクトの生成        \n",
    "spam=Spam()\n",
    "\n",
    "spam.ham()"
   ]
  },
  {
   "cell_type": "code",
   "execution_count": 5,
   "metadata": {},
   "outputs": [
    {
     "name": "stdout",
     "output_type": "stream",
     "text": [
      "73\n"
     ]
    }
   ],
   "source": [
    "class Spam:\n",
    "    #コンストラクタの生成(オブジェクトの扱うデータを初期化する)\n",
    "    def __init__(self,ham,egg):\n",
    "        self.ham=ham\n",
    "        self.egg=egg\n",
    "    def output(self):\n",
    "        sum=self.ham+self.egg\n",
    "        #.formatの引数の順番を表すのが{0}\n",
    "        #.formatによって変数などを文字列に埋め込むことができる\n",
    "        \n",
    "        print(\"{0}\".format(sum))\n",
    "\n",
    "spam=Spam(30,43)\n",
    "spam.output()\n"
   ]
  },
  {
   "cell_type": "code",
   "execution_count": 7,
   "metadata": {},
   "outputs": [
    {
     "name": "stdout",
     "output_type": "stream",
     "text": [
      "base\n",
      "ham\n"
     ]
    }
   ],
   "source": [
    "class Base:\n",
    "    basevalue=\"base\"\n",
    "#     def spam(self):\n",
    "#         print(\"Base.spam()\")\n",
    "    def ham(self):\n",
    "        print(\"ham\")\n",
    "        \n",
    "class Derived(Base):\n",
    "    def spam(self):\n",
    "        print(\"Derived.spam()\")\n",
    "        self.ham()\n",
    "\n",
    "derived=Derived()\n",
    "print(\"{}\".format(derived.basevalue))\n",
    "derived.ham()"
   ]
  },
  {
   "cell_type": "code",
   "execution_count": null,
   "metadata": {},
   "outputs": [],
   "source": []
  },
  {
   "cell_type": "code",
   "execution_count": null,
   "metadata": {},
   "outputs": [],
   "source": []
  },
  {
   "cell_type": "code",
   "execution_count": null,
   "metadata": {},
   "outputs": [],
   "source": []
  },
  {
   "cell_type": "code",
   "execution_count": null,
   "metadata": {},
   "outputs": [],
   "source": []
  },
  {
   "cell_type": "code",
   "execution_count": null,
   "metadata": {},
   "outputs": [],
   "source": []
  }
 ],
 "metadata": {
  "kernelspec": {
   "display_name": "Python 3",
   "language": "python",
   "name": "python3"
  },
  "language_info": {
   "codemirror_mode": {
    "name": "ipython",
    "version": 3
   },
   "file_extension": ".py",
   "mimetype": "text/x-python",
   "name": "python",
   "nbconvert_exporter": "python",
   "pygments_lexer": "ipython3",
   "version": "3.6.5"
  }
 },
 "nbformat": 4,
 "nbformat_minor": 2
}
